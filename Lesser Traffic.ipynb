{
 "cells": [
  {
   "cell_type": "code",
   "execution_count": 1,
   "metadata": {
    "collapsed": true
   },
   "outputs": [],
   "source": [
    "import random\n",
    "import math as m\n",
    "import statistics as st\n",
    "import numpy as np\n",
    "import matplotlib.pyplot as plt\n",
    "import pandas as pd"
   ]
  },
  {
   "cell_type": "code",
   "execution_count": 2,
   "metadata": {
    "collapsed": true
   },
   "outputs": [],
   "source": [
    "% matplotlib inline"
   ]
  },
  {
   "cell_type": "code",
   "execution_count": 27,
   "metadata": {
    "collapsed": false
   },
   "outputs": [],
   "source": [
    "\n",
    "class Mobile_soul:\n",
    "    \n",
    "    def __init__(self):\n",
    "        self.size = 5\n",
    "        self.max_speed = 33\n",
    "        self.current_speed = 1\n",
    "        self.position = 0\n",
    "        self.next_soul = False\n",
    "        \n",
    "        \n",
    "    def soul_sense(self):\n",
    "        pass\n",
    "        \n",
    "    def motion(self):\n",
    "        if self.current_speed < 0:\n",
    "            self.position += 0\n",
    "        else:\n",
    "            self.position += self.current_speed\n",
    "    \n",
    "    def accelerate(self):\n",
    "        if self.current_speed < self.max_speed:\n",
    "            self.current_speed += 2\n",
    "        else:\n",
    "            self.current_speed += 0\n",
    "\n",
    "    def decelerate(self):\n",
    "        chance = random.randint(1,11)\n",
    "        if chance == 1:\n",
    "            self.current_speed -= 2\n",
    "    \n",
    "    \n",
    "class Soul_river:\n",
    "    \n",
    "    def __init__(self, step=5):\n",
    "        self.step = step\n",
    "        self.river_length = self.splash(self.step)\n",
    "        self.soul = [Mobile_soul() for _ in self.river_length]\n",
    "        self.soul_2 = self.posit()\n",
    "       \n",
    "        \n",
    "    def posit(self):\n",
    "        t_list = []\n",
    "        zipper_2 = [list(i) for i in list(zip(self.soul, self.river_length))]\n",
    "        for i in zipper_2:\n",
    "            i[0].position += i[1]\n",
    "            t_list.append(i[0])\n",
    "        return t_list\n",
    "            \n",
    "    def splash(self, step): \n",
    "        n_list = []\n",
    "        n_step = range(step)\n",
    "        o_list = [_ * (1000/step) for _ in range(0, step)]\n",
    "        for i in o_list:\n",
    "            n_list.append(int(i))\n",
    "        return n_list\n",
    "    \n"
   ]
  },
  {
   "cell_type": "code",
   "execution_count": null,
   "metadata": {
    "collapsed": true
   },
   "outputs": [],
   "source": []
  },
  {
   "cell_type": "code",
   "execution_count": 57,
   "metadata": {
    "collapsed": false,
    "scrolled": true
   },
   "outputs": [
    {
     "name": "stdout",
     "output_type": "stream",
     "text": [
      "speed: 1\n",
      "1\n",
      "speed: 1\n",
      "201\n",
      "speed: 1\n",
      "401\n",
      "speed: 1\n",
      "601\n",
      "speed: 1\n",
      "801\n",
      "speed: 1\n",
      "2\n",
      "speed: 3\n",
      "204\n",
      "speed: 3\n",
      "404\n",
      "speed: 3\n",
      "604\n",
      "speed: 3\n",
      "804\n",
      "speed: 3\n",
      "5\n",
      "speed: 5\n",
      "209\n",
      "speed: 3\n",
      "407\n",
      "speed: 5\n",
      "609\n",
      "speed: 5\n",
      "809\n",
      "speed: 5\n",
      "10\n",
      "speed: 5\n",
      "214\n",
      "speed: 5\n",
      "412\n",
      "speed: 7\n",
      "616\n",
      "speed: 7\n",
      "816\n",
      "speed: 7\n",
      "17\n",
      "speed: 7\n",
      "221\n",
      "speed: 7\n",
      "419\n",
      "speed: 9\n",
      "625\n",
      "speed: 9\n",
      "825\n",
      "speed: 9\n",
      "26\n",
      "speed: 9\n",
      "230\n",
      "speed: 9\n",
      "428\n",
      "speed: 11\n",
      "636\n",
      "speed: 11\n",
      "836\n",
      "speed: 11\n",
      "37\n",
      "speed: 11\n",
      "241\n",
      "speed: 11\n",
      "439\n",
      "speed: 13\n",
      "649\n",
      "speed: 13\n",
      "849\n",
      "speed: 13\n",
      "50\n",
      "speed: 13\n",
      "254\n",
      "speed: 13\n",
      "452\n",
      "speed: 15\n",
      "664\n",
      "speed: 15\n",
      "864\n",
      "speed: 15\n",
      "65\n",
      "speed: 15\n",
      "269\n",
      "speed: 13\n",
      "465\n",
      "speed: 17\n",
      "681\n",
      "speed: 17\n",
      "881\n",
      "speed: 17\n",
      "82\n",
      "speed: 17\n",
      "286\n",
      "speed: 15\n",
      "480\n",
      "speed: 19\n",
      "700\n",
      "speed: 19\n",
      "900\n",
      "[[1, 201, 401, 601, 801], [2, 204, 404, 604, 804], [5, 209, 407, 609, 809], [10, 214, 412, 616, 816], [17, 221, 419, 625, 825], [26, 230, 428, 636, 836], [37, 241, 439, 649, 849], [50, 254, 452, 664, 864], [65, 269, 465, 681, 881], [82, 286, 480, 700, 900]]\n",
      "[[0, 0, 0, 0, 0], [1, 1, 1, 1, 1], [2, 2, 2, 2, 2], [3, 3, 3, 3, 3], [4, 4, 4, 4, 4], [5, 5, 5, 5, 5], [6, 6, 6, 6, 6], [7, 7, 7, 7, 7], [8, 8, 8, 8, 8], [9, 9, 9, 9, 9]]\n"
     ]
    }
   ],
   "source": [
    "soul = Mobile_soul()\n",
    "riv = Soul_river(5)\n",
    "\n",
    "def entelocheia(empty_list):\n",
    "    for i in riv.soul_2:\n",
    "        print(\"speed: {}\".format(i.current_speed))\n",
    "        i.motion()\n",
    "        i.accelerate()\n",
    "        i.decelerate()\n",
    "        if i.position > 1000:\n",
    "            i.position -= 1000\n",
    "        print(i.position)\n",
    "        empty_list.append(i.position)\n",
    "\n",
    "time_list = []\n",
    "master_list = []\n",
    "def eudaemonia(n):\n",
    "    for i in range(10):\n",
    "        e_list = []\n",
    "        o_list = []\n",
    "        entelocheia(e_list)\n",
    "        master_list.append(e_list)\n",
    "        o_list += n * [i]\n",
    "        time_list.append(o_list)\n",
    "    print(master_list)\n",
    "    print(time_list)\n",
    "eudaemonia(riv.step)"
   ]
  },
  {
   "cell_type": "code",
   "execution_count": 60,
   "metadata": {
    "collapsed": false
   },
   "outputs": [
    {
     "name": "stdout",
     "output_type": "stream",
     "text": [
      "10\n",
      "10\n"
     ]
    },
    {
     "data": {
      "image/png": "[encoded data removed]",
      "text/plain": [
       "<matplotlib.figure.Figure at 0x1134dfef0>"
      ]
     },
     "metadata": {},
     "output_type": "display_data"
    }
   ],
   "source": [
    "print(len(master_list))\n",
    "print(len(time_list))\n",
    "plt.scatter(master_list, time_list, c=['r','b'], marker = '|')\n",
    "\n",
    "plt.show()"
   ]
  },
  {
   "cell_type": "code",
   "execution_count": 49,
   "metadata": {
    "collapsed": false
   },
   "outputs": [
    {
     "name": "stdout",
     "output_type": "stream",
     "text": [
      "Help on function plot in module matplotlib.pyplot:\n",
      "\n",
      "plot(*args, **kwargs)\n",
      "    Plot lines and/or markers to the\n",
      "    :class:`~matplotlib.axes.Axes`.  *args* is a variable length\n",
      "    argument, allowing for multiple *x*, *y* pairs with an\n",
      "    optional format string.  For example, each of the following is\n",
      "    legal::\n",
      "    \n",
      "        plot(x, y)        # plot x and y using default line style and color\n",
      "        plot(x, y, 'bo')  # plot x and y using blue circle markers\n",
      "        plot(y)           # plot y using x as index array 0..N-1\n",
      "        plot(y, 'r+')     # ditto, but with red plusses\n",
      "    \n",
      "    If *x* and/or *y* is 2-dimensional, then the corresponding columns\n",
      "    will be plotted.\n",
      "    \n",
      "    An arbitrary number of *x*, *y*, *fmt* groups can be\n",
      "    specified, as in::\n",
      "    \n",
      "        a.plot(x1, y1, 'g^', x2, y2, 'g-')\n",
      "    \n",
      "    Return value is a list of lines that were added.\n",
      "    \n",
      "    By default, each line is assigned a different color specified by a\n",
      "    'color cycle'.  To change this behavior, you can edit the\n",
      "    axes.color_cycle rcParam.\n",
      "    \n",
      "    The following format string characters are accepted to control\n",
      "    the line style or marker:\n",
      "    \n",
      "    ================    ===============================\n",
      "    character           description\n",
      "    ================    ===============================\n",
      "    ``'-'``             solid line style\n",
      "    ``'--'``            dashed line style\n",
      "    ``'-.'``            dash-dot line style\n",
      "    ``':'``             dotted line style\n",
      "    ``'.'``             point marker\n",
      "    ``','``             pixel marker\n",
      "    ``'o'``             circle marker\n",
      "    ``'v'``             triangle_down marker\n",
      "    ``'^'``             triangle_up marker\n",
      "    ``'<'``             triangle_left marker\n",
      "    ``'>'``             triangle_right marker\n",
      "    ``'1'``             tri_down marker\n",
      "    ``'2'``             tri_up marker\n",
      "    ``'3'``             tri_left marker\n",
      "    ``'4'``             tri_right marker\n",
      "    ``'s'``             square marker\n",
      "    ``'p'``             pentagon marker\n",
      "    ``'*'``             star marker\n",
      "    ``'h'``             hexagon1 marker\n",
      "    ``'H'``             hexagon2 marker\n",
      "    ``'+'``             plus marker\n",
      "    ``'x'``             x marker\n",
      "    ``'D'``             diamond marker\n",
      "    ``'d'``             thin_diamond marker\n",
      "    ``'|'``             vline marker\n",
      "    ``'_'``             hline marker\n",
      "    ================    ===============================\n",
      "    \n",
      "    \n",
      "    The following color abbreviations are supported:\n",
      "    \n",
      "    ==========  ========\n",
      "    character   color\n",
      "    ==========  ========\n",
      "    'b'         blue\n",
      "    'g'         green\n",
      "    'r'         red\n",
      "    'c'         cyan\n",
      "    'm'         magenta\n",
      "    'y'         yellow\n",
      "    'k'         black\n",
      "    'w'         white\n",
      "    ==========  ========\n",
      "    \n",
      "    In addition, you can specify colors in many weird and\n",
      "    wonderful ways, including full names (``'green'``), hex\n",
      "    strings (``'#008000'``), RGB or RGBA tuples (``(0,1,0,1)``) or\n",
      "    grayscale intensities as a string (``'0.8'``).  Of these, the\n",
      "    string specifications can be used in place of a ``fmt`` group,\n",
      "    but the tuple forms can be used only as ``kwargs``.\n",
      "    \n",
      "    Line styles and colors are combined in a single format string, as in\n",
      "    ``'bo'`` for blue circles.\n",
      "    \n",
      "    The *kwargs* can be used to set line properties (any property that has\n",
      "    a ``set_*`` method).  You can use this to set a line label (for auto\n",
      "    legends), linewidth, anitialising, marker face color, etc.  Here is an\n",
      "    example::\n",
      "    \n",
      "        plot([1,2,3], [1,2,3], 'go-', label='line 1', linewidth=2)\n",
      "        plot([1,2,3], [1,4,9], 'rs',  label='line 2')\n",
      "        axis([0, 4, 0, 10])\n",
      "        legend()\n",
      "    \n",
      "    If you make multiple lines with one plot command, the kwargs\n",
      "    apply to all those lines, e.g.::\n",
      "    \n",
      "        plot(x1, y1, x2, y2, antialised=False)\n",
      "    \n",
      "    Neither line will be antialiased.\n",
      "    \n",
      "    You do not need to use format strings, which are just\n",
      "    abbreviations.  All of the line properties can be controlled\n",
      "    by keyword arguments.  For example, you can set the color,\n",
      "    marker, linestyle, and markercolor with::\n",
      "    \n",
      "        plot(x, y, color='green', linestyle='dashed', marker='o',\n",
      "             markerfacecolor='blue', markersize=12).\n",
      "    \n",
      "    See :class:`~matplotlib.lines.Line2D` for details.\n",
      "    \n",
      "    The kwargs are :class:`~matplotlib.lines.Line2D` properties:\n",
      "    \n",
      "      agg_filter: unknown\n",
      "      alpha: float (0.0 transparent through 1.0 opaque)         \n",
      "      animated: [True | False]         \n",
      "      antialiased or aa: [True | False]         \n",
      "      axes: an :class:`~matplotlib.axes.Axes` instance         \n",
      "      clip_box: a :class:`matplotlib.transforms.Bbox` instance         \n",
      "      clip_on: [True | False]         \n",
      "      clip_path: [ (:class:`~matplotlib.path.Path`,         :class:`~matplotlib.transforms.Transform`) |         :class:`~matplotlib.patches.Patch` | None ]         \n",
      "      color or c: any matplotlib color         \n",
      "      contains: a callable function         \n",
      "      dash_capstyle: ['butt' | 'round' | 'projecting']         \n",
      "      dash_joinstyle: ['miter' | 'round' | 'bevel']         \n",
      "      dashes: sequence of on/off ink in points         \n",
      "      drawstyle: ['default' | 'steps' | 'steps-pre' | 'steps-mid' |                   'steps-post']         \n",
      "      figure: a :class:`matplotlib.figure.Figure` instance         \n",
      "      fillstyle: ['full' | 'left' | 'right' | 'bottom' | 'top' | 'none']         \n",
      "      gid: an id string         \n",
      "      label: string or anything printable with '%s' conversion.         \n",
      "      linestyle or ls: [``'-'`` | ``'--'`` | ``'-.'`` | ``':'`` | ``'None'`` |                   ``' '`` | ``''``]\n",
      "      linewidth or lw: float value in points         \n",
      "      lod: [True | False]         \n",
      "      marker: :mod:`A valid marker style <matplotlib.markers>`\n",
      "      markeredgecolor or mec: any matplotlib color         \n",
      "      markeredgewidth or mew: float value in points         \n",
      "      markerfacecolor or mfc: any matplotlib color         \n",
      "      markerfacecoloralt or mfcalt: any matplotlib color         \n",
      "      markersize or ms: float         \n",
      "      markevery: [None | int | length-2 tuple of int | slice |         list/array of int | float | length-2 tuple of float]\n",
      "      path_effects: unknown\n",
      "      picker: float distance in points or callable pick function         ``fn(artist, event)``         \n",
      "      pickradius: float distance in points         \n",
      "      rasterized: [True | False | None]         \n",
      "      sketch_params: unknown\n",
      "      snap: unknown\n",
      "      solid_capstyle: ['butt' | 'round' |  'projecting']         \n",
      "      solid_joinstyle: ['miter' | 'round' | 'bevel']         \n",
      "      transform: a :class:`matplotlib.transforms.Transform` instance         \n",
      "      url: a url string         \n",
      "      visible: [True | False]         \n",
      "      xdata: 1D array         \n",
      "      ydata: 1D array         \n",
      "      zorder: any number         \n",
      "    \n",
      "    kwargs *scalex* and *scaley*, if defined, are passed on to\n",
      "    :meth:`~matplotlib.axes.Axes.autoscale_view` to determine\n",
      "    whether the *x* and *y* axes are autoscaled; the default is\n",
      "    *True*.\n",
      "    \n",
      "    \n",
      "    \n",
      "    Additional kwargs: hold = [True|False] overrides default hold state\n",
      "\n"
     ]
    }
   ],
   "source": [
    "help(plt.plot)"
   ]
  },
  {
   "cell_type": "code",
   "execution_count": null,
   "metadata": {
    "collapsed": true
   },
   "outputs": [],
   "source": []
  },
  {
   "cell_type": "code",
   "execution_count": null,
   "metadata": {
    "collapsed": true
   },
   "outputs": [],
   "source": []
  },
  {
   "cell_type": "code",
   "execution_count": null,
   "metadata": {
    "collapsed": true
   },
   "outputs": [],
   "source": []
  },
  {
   "cell_type": "code",
   "execution_count": null,
   "metadata": {
    "collapsed": true
   },
   "outputs": [],
   "source": []
  },
  {
   "cell_type": "code",
   "execution_count": null,
   "metadata": {
    "collapsed": true
   },
   "outputs": [],
   "source": []
  },
  {
   "cell_type": "code",
   "execution_count": null,
   "metadata": {
    "collapsed": true
   },
   "outputs": [],
   "source": []
  },
  {
   "cell_type": "code",
   "execution_count": null,
   "metadata": {
    "collapsed": true
   },
   "outputs": [],
   "source": []
  },
  {
   "cell_type": "code",
   "execution_count": null,
   "metadata": {
    "collapsed": true
   },
   "outputs": [],
   "source": []
  },
  {
   "cell_type": "code",
   "execution_count": null,
   "metadata": {
    "collapsed": true
   },
   "outputs": [],
   "source": []
  },
  {
   "cell_type": "code",
   "execution_count": null,
   "metadata": {
    "collapsed": true
   },
   "outputs": [],
   "source": []
  },
  {
   "cell_type": "code",
   "execution_count": null,
   "metadata": {
    "collapsed": true
   },
   "outputs": [],
   "source": []
  },
  {
   "cell_type": "code",
   "execution_count": null,
   "metadata": {
    "collapsed": true
   },
   "outputs": [],
   "source": []
  },
  {
   "cell_type": "code",
   "execution_count": null,
   "metadata": {
    "collapsed": true
   },
   "outputs": [],
   "source": []
  },
  {
   "cell_type": "code",
   "execution_count": null,
   "metadata": {
    "collapsed": true
   },
   "outputs": [],
   "source": []
  },
  {
   "cell_type": "code",
   "execution_count": null,
   "metadata": {
    "collapsed": true
   },
   "outputs": [],
   "source": []
  },
  {
   "cell_type": "code",
   "execution_count": null,
   "metadata": {
    "collapsed": true
   },
   "outputs": [],
   "source": []
  },
  {
   "cell_type": "code",
   "execution_count": null,
   "metadata": {
    "collapsed": true
   },
   "outputs": [],
   "source": []
  },
  {
   "cell_type": "code",
   "execution_count": null,
   "metadata": {
    "collapsed": true
   },
   "outputs": [],
   "source": []
  }
 ],
 "metadata": {
  "kernelspec": {
   "display_name": "Python 3",
   "language": "python",
   "name": "python3"
  },
  "language_info": {
   "codemirror_mode": {
    "name": "ipython",
    "version": 3
   },
   "file_extension": ".py",
   "mimetype": "text/x-python",
   "name": "python",
   "nbconvert_exporter": "python",
   "pygments_lexer": "ipython3",
   "version": "3.4.3"
  }
 },
 "nbformat": 4,
 "nbformat_minor": 0
}
